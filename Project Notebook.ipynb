{
 "cells": [
  {
   "cell_type": "code",
   "execution_count": 132,
   "metadata": {},
   "outputs": [],
   "source": [
    "import pandas as pd\n",
    "import numpy as np\n",
    "import matplotlib.pyplot as plt\n",
    "import seaborn as sns"
   ]
  },
  {
   "cell_type": "code",
   "execution_count": 133,
   "metadata": {},
   "outputs": [],
   "source": [
    "df=pd.read_csv('car data.csv')"
   ]
  },
  {
   "cell_type": "code",
   "execution_count": 134,
   "metadata": {},
   "outputs": [
    {
     "data": {
      "text/html": [
       "<div>\n",
       "<style scoped>\n",
       "    .dataframe tbody tr th:only-of-type {\n",
       "        vertical-align: middle;\n",
       "    }\n",
       "\n",
       "    .dataframe tbody tr th {\n",
       "        vertical-align: top;\n",
       "    }\n",
       "\n",
       "    .dataframe thead th {\n",
       "        text-align: right;\n",
       "    }\n",
       "</style>\n",
       "<table border=\"1\" class=\"dataframe\">\n",
       "  <thead>\n",
       "    <tr style=\"text-align: right;\">\n",
       "      <th></th>\n",
       "      <th>Car_Name</th>\n",
       "      <th>Year</th>\n",
       "      <th>Selling_Price</th>\n",
       "      <th>Present_Price</th>\n",
       "      <th>Kms_Driven</th>\n",
       "      <th>Fuel_Type</th>\n",
       "      <th>Seller_Type</th>\n",
       "      <th>Transmission</th>\n",
       "      <th>Owner</th>\n",
       "    </tr>\n",
       "  </thead>\n",
       "  <tbody>\n",
       "    <tr>\n",
       "      <th>0</th>\n",
       "      <td>ritz</td>\n",
       "      <td>2014</td>\n",
       "      <td>3.35</td>\n",
       "      <td>5.59</td>\n",
       "      <td>27000</td>\n",
       "      <td>Petrol</td>\n",
       "      <td>Dealer</td>\n",
       "      <td>Manual</td>\n",
       "      <td>0</td>\n",
       "    </tr>\n",
       "    <tr>\n",
       "      <th>1</th>\n",
       "      <td>sx4</td>\n",
       "      <td>2013</td>\n",
       "      <td>4.75</td>\n",
       "      <td>9.54</td>\n",
       "      <td>43000</td>\n",
       "      <td>Diesel</td>\n",
       "      <td>Dealer</td>\n",
       "      <td>Manual</td>\n",
       "      <td>0</td>\n",
       "    </tr>\n",
       "    <tr>\n",
       "      <th>2</th>\n",
       "      <td>ciaz</td>\n",
       "      <td>2017</td>\n",
       "      <td>7.25</td>\n",
       "      <td>9.85</td>\n",
       "      <td>6900</td>\n",
       "      <td>Petrol</td>\n",
       "      <td>Dealer</td>\n",
       "      <td>Manual</td>\n",
       "      <td>0</td>\n",
       "    </tr>\n",
       "    <tr>\n",
       "      <th>3</th>\n",
       "      <td>wagon r</td>\n",
       "      <td>2011</td>\n",
       "      <td>2.85</td>\n",
       "      <td>4.15</td>\n",
       "      <td>5200</td>\n",
       "      <td>Petrol</td>\n",
       "      <td>Dealer</td>\n",
       "      <td>Manual</td>\n",
       "      <td>0</td>\n",
       "    </tr>\n",
       "    <tr>\n",
       "      <th>4</th>\n",
       "      <td>swift</td>\n",
       "      <td>2014</td>\n",
       "      <td>4.60</td>\n",
       "      <td>6.87</td>\n",
       "      <td>42450</td>\n",
       "      <td>Diesel</td>\n",
       "      <td>Dealer</td>\n",
       "      <td>Manual</td>\n",
       "      <td>0</td>\n",
       "    </tr>\n",
       "  </tbody>\n",
       "</table>\n",
       "</div>"
      ],
      "text/plain": [
       "  Car_Name  Year  Selling_Price  Present_Price  Kms_Driven Fuel_Type  \\\n",
       "0     ritz  2014           3.35           5.59       27000    Petrol   \n",
       "1      sx4  2013           4.75           9.54       43000    Diesel   \n",
       "2     ciaz  2017           7.25           9.85        6900    Petrol   \n",
       "3  wagon r  2011           2.85           4.15        5200    Petrol   \n",
       "4    swift  2014           4.60           6.87       42450    Diesel   \n",
       "\n",
       "  Seller_Type Transmission  Owner  \n",
       "0      Dealer       Manual      0  \n",
       "1      Dealer       Manual      0  \n",
       "2      Dealer       Manual      0  \n",
       "3      Dealer       Manual      0  \n",
       "4      Dealer       Manual      0  "
      ]
     },
     "execution_count": 134,
     "metadata": {},
     "output_type": "execute_result"
    }
   ],
   "source": [
    "df.head()"
   ]
  },
  {
   "cell_type": "code",
   "execution_count": 135,
   "metadata": {},
   "outputs": [
    {
     "data": {
      "text/plain": [
       "(301, 9)"
      ]
     },
     "execution_count": 135,
     "metadata": {},
     "output_type": "execute_result"
    }
   ],
   "source": [
    "df.shape"
   ]
  },
  {
   "cell_type": "code",
   "execution_count": 136,
   "metadata": {},
   "outputs": [
    {
     "name": "stdout",
     "output_type": "stream",
     "text": [
      "<class 'pandas.core.frame.DataFrame'>\n",
      "RangeIndex: 301 entries, 0 to 300\n",
      "Data columns (total 9 columns):\n",
      " #   Column         Non-Null Count  Dtype  \n",
      "---  ------         --------------  -----  \n",
      " 0   Car_Name       301 non-null    object \n",
      " 1   Year           301 non-null    int64  \n",
      " 2   Selling_Price  301 non-null    float64\n",
      " 3   Present_Price  301 non-null    float64\n",
      " 4   Kms_Driven     301 non-null    int64  \n",
      " 5   Fuel_Type      301 non-null    object \n",
      " 6   Seller_Type    301 non-null    object \n",
      " 7   Transmission   301 non-null    object \n",
      " 8   Owner          301 non-null    int64  \n",
      "dtypes: float64(2), int64(3), object(4)\n",
      "memory usage: 21.3+ KB\n"
     ]
    }
   ],
   "source": [
    "df.info()"
   ]
  },
  {
   "cell_type": "code",
   "execution_count": 137,
   "metadata": {},
   "outputs": [
    {
     "data": {
      "text/html": [
       "<div>\n",
       "<style scoped>\n",
       "    .dataframe tbody tr th:only-of-type {\n",
       "        vertical-align: middle;\n",
       "    }\n",
       "\n",
       "    .dataframe tbody tr th {\n",
       "        vertical-align: top;\n",
       "    }\n",
       "\n",
       "    .dataframe thead th {\n",
       "        text-align: right;\n",
       "    }\n",
       "</style>\n",
       "<table border=\"1\" class=\"dataframe\">\n",
       "  <thead>\n",
       "    <tr style=\"text-align: right;\">\n",
       "      <th></th>\n",
       "      <th>Year</th>\n",
       "      <th>Selling_Price</th>\n",
       "      <th>Present_Price</th>\n",
       "      <th>Kms_Driven</th>\n",
       "      <th>Owner</th>\n",
       "    </tr>\n",
       "  </thead>\n",
       "  <tbody>\n",
       "    <tr>\n",
       "      <th>count</th>\n",
       "      <td>301.000000</td>\n",
       "      <td>301.000000</td>\n",
       "      <td>301.000000</td>\n",
       "      <td>301.000000</td>\n",
       "      <td>301.000000</td>\n",
       "    </tr>\n",
       "    <tr>\n",
       "      <th>mean</th>\n",
       "      <td>2013.641196</td>\n",
       "      <td>4.667940</td>\n",
       "      <td>7.638439</td>\n",
       "      <td>36944.880399</td>\n",
       "      <td>0.043189</td>\n",
       "    </tr>\n",
       "    <tr>\n",
       "      <th>std</th>\n",
       "      <td>2.911614</td>\n",
       "      <td>5.084956</td>\n",
       "      <td>8.643845</td>\n",
       "      <td>38888.793856</td>\n",
       "      <td>0.247915</td>\n",
       "    </tr>\n",
       "    <tr>\n",
       "      <th>min</th>\n",
       "      <td>2003.000000</td>\n",
       "      <td>0.100000</td>\n",
       "      <td>0.320000</td>\n",
       "      <td>500.000000</td>\n",
       "      <td>0.000000</td>\n",
       "    </tr>\n",
       "    <tr>\n",
       "      <th>25%</th>\n",
       "      <td>2012.000000</td>\n",
       "      <td>0.900000</td>\n",
       "      <td>1.200000</td>\n",
       "      <td>15000.000000</td>\n",
       "      <td>0.000000</td>\n",
       "    </tr>\n",
       "    <tr>\n",
       "      <th>50%</th>\n",
       "      <td>2014.000000</td>\n",
       "      <td>3.600000</td>\n",
       "      <td>6.490000</td>\n",
       "      <td>32000.000000</td>\n",
       "      <td>0.000000</td>\n",
       "    </tr>\n",
       "    <tr>\n",
       "      <th>75%</th>\n",
       "      <td>2016.000000</td>\n",
       "      <td>6.000000</td>\n",
       "      <td>9.900000</td>\n",
       "      <td>48767.000000</td>\n",
       "      <td>0.000000</td>\n",
       "    </tr>\n",
       "    <tr>\n",
       "      <th>max</th>\n",
       "      <td>2020.000000</td>\n",
       "      <td>35.000000</td>\n",
       "      <td>92.600000</td>\n",
       "      <td>500000.000000</td>\n",
       "      <td>3.000000</td>\n",
       "    </tr>\n",
       "  </tbody>\n",
       "</table>\n",
       "</div>"
      ],
      "text/plain": [
       "              Year  Selling_Price  Present_Price     Kms_Driven       Owner\n",
       "count   301.000000     301.000000     301.000000     301.000000  301.000000\n",
       "mean   2013.641196       4.667940       7.638439   36944.880399    0.043189\n",
       "std       2.911614       5.084956       8.643845   38888.793856    0.247915\n",
       "min    2003.000000       0.100000       0.320000     500.000000    0.000000\n",
       "25%    2012.000000       0.900000       1.200000   15000.000000    0.000000\n",
       "50%    2014.000000       3.600000       6.490000   32000.000000    0.000000\n",
       "75%    2016.000000       6.000000       9.900000   48767.000000    0.000000\n",
       "max    2020.000000      35.000000      92.600000  500000.000000    3.000000"
      ]
     },
     "execution_count": 137,
     "metadata": {},
     "output_type": "execute_result"
    }
   ],
   "source": [
    "df.describe()"
   ]
  },
  {
   "cell_type": "code",
   "execution_count": 138,
   "metadata": {},
   "outputs": [
    {
     "data": {
      "text/plain": [
       "Car_Name         0\n",
       "Year             0\n",
       "Selling_Price    0\n",
       "Present_Price    0\n",
       "Kms_Driven       0\n",
       "Fuel_Type        0\n",
       "Seller_Type      0\n",
       "Transmission     0\n",
       "Owner            0\n",
       "dtype: int64"
      ]
     },
     "execution_count": 138,
     "metadata": {},
     "output_type": "execute_result"
    }
   ],
   "source": [
    "df.isnull().sum()"
   ]
  },
  {
   "cell_type": "code",
   "execution_count": 139,
   "metadata": {},
   "outputs": [
    {
     "name": "stderr",
     "output_type": "stream",
     "text": [
      "C:\\Users\\Hetvi\\AppData\\Local\\Programs\\Python\\Python39\\lib\\site-packages\\seaborn\\distributions.py:2619: FutureWarning: `distplot` is a deprecated function and will be removed in a future version. Please adapt your code to use either `displot` (a figure-level function with similar flexibility) or `histplot` (an axes-level function for histograms).\n",
      "  warnings.warn(msg, FutureWarning)\n"
     ]
    },
    {
     "data": {
      "text/plain": [
       "Text(0.5, 1.0, 'Sales data distribution')"
      ]
     },
     "execution_count": 139,
     "metadata": {},
     "output_type": "execute_result"
    },
    {
     "data": {
      "image/png": "[encoded data removed]",
      "text/plain": [
       "<Figure size 576x288 with 1 Axes>"
      ]
     },
     "metadata": {},
     "output_type": "display_data"
    }
   ],
   "source": [
    "fig=plt.figure(figsize=(8,4))\n",
    "sns.distplot(df['Selling_Price'])\n",
    "plt.title('Sales data distribution')"
   ]
  },
  {
   "cell_type": "code",
   "execution_count": 140,
   "metadata": {},
   "outputs": [
    {
     "data": {
      "text/plain": [
       "<AxesSubplot:>"
      ]
     },
     "execution_count": 140,
     "metadata": {},
     "output_type": "execute_result"
    },
    {
     "data": {
      "image/png": "[encoded data removed]",
      "text/plain": [
       "<Figure size 792x648 with 2 Axes>"
      ]
     },
     "metadata": {},
     "output_type": "display_data"
    }
   ],
   "source": [
    "sns.set_theme(style=\"white\")\n",
    "rs = np.random.RandomState(33)\n",
    "d = pd.DataFrame(data=rs.normal(size=(100, 9)),\n",
    "                 columns=list(df))\n",
    "corr = d.corr()\n",
    "mask = np.triu(np.ones_like(corr, dtype=bool))\n",
    "f, ax = plt.subplots(figsize=(11, 9))\n",
    "cmap = sns.diverging_palette(230, 20, as_cmap=True)\n",
    "sns.heatmap(corr, mask=mask, cmap=cmap, vmax=.3, center=0,\n",
    "            square=True, linewidths=.5, cbar_kws={\"shrink\": .5})"
   ]
  },
  {
   "cell_type": "code",
   "execution_count": 141,
   "metadata": {},
   "outputs": [
    {
     "name": "stdout",
     "output_type": "stream",
     "text": [
      "['Dealer' 'Individual']\n",
      "['Manual' 'Automatic']\n",
      "[0 1 3]\n"
     ]
    }
   ],
   "source": [
    "print(df['Seller_Type'].unique())\n",
    "print(df['Transmission'].unique())\n",
    "print(df['Owner'].unique())"
   ]
  },
  {
   "cell_type": "code",
   "execution_count": 142,
   "metadata": {},
   "outputs": [
    {
     "data": {
      "text/plain": [
       "Index(['Car_Name', 'Year', 'Selling_Price', 'Present_Price', 'Kms_Driven',\n",
       "       'Fuel_Type', 'Seller_Type', 'Transmission', 'Owner'],\n",
       "      dtype='object')"
      ]
     },
     "execution_count": 142,
     "metadata": {},
     "output_type": "execute_result"
    }
   ],
   "source": [
    "df.columns"
   ]
  },
  {
   "cell_type": "code",
   "execution_count": 143,
   "metadata": {},
   "outputs": [],
   "source": [
    "final_dataset=df[['Year', 'Selling_Price', 'Present_Price', 'Kms_Driven',\n",
    "       'Fuel_Type', 'Seller_Type', 'Transmission', 'Owner']]"
   ]
  },
  {
   "cell_type": "code",
   "execution_count": 144,
   "metadata": {},
   "outputs": [],
   "source": [
    "final_dataset['Current_Year']=2021"
   ]
  },
  {
   "cell_type": "code",
   "execution_count": 145,
   "metadata": {},
   "outputs": [],
   "source": [
    "final_dataset['no_year']=final_dataset['Current_Year']-final_dataset['Year']"
   ]
  },
  {
   "cell_type": "code",
   "execution_count": 146,
   "metadata": {},
   "outputs": [
    {
     "data": {
      "text/html": [
       "<div>\n",
       "<style scoped>\n",
       "    .dataframe tbody tr th:only-of-type {\n",
       "        vertical-align: middle;\n",
       "    }\n",
       "\n",
       "    .dataframe tbody tr th {\n",
       "        vertical-align: top;\n",
       "    }\n",
       "\n",
       "    .dataframe thead th {\n",
       "        text-align: right;\n",
       "    }\n",
       "</style>\n",
       "<table border=\"1\" class=\"dataframe\">\n",
       "  <thead>\n",
       "    <tr style=\"text-align: right;\">\n",
       "      <th></th>\n",
       "      <th>Year</th>\n",
       "      <th>Selling_Price</th>\n",
       "      <th>Present_Price</th>\n",
       "      <th>Kms_Driven</th>\n",
       "      <th>Fuel_Type</th>\n",
       "      <th>Seller_Type</th>\n",
       "      <th>Transmission</th>\n",
       "      <th>Owner</th>\n",
       "      <th>Current_Year</th>\n",
       "      <th>no_year</th>\n",
       "    </tr>\n",
       "  </thead>\n",
       "  <tbody>\n",
       "    <tr>\n",
       "      <th>0</th>\n",
       "      <td>2014</td>\n",
       "      <td>3.35</td>\n",
       "      <td>5.59</td>\n",
       "      <td>27000</td>\n",
       "      <td>Petrol</td>\n",
       "      <td>Dealer</td>\n",
       "      <td>Manual</td>\n",
       "      <td>0</td>\n",
       "      <td>2021</td>\n",
       "      <td>7</td>\n",
       "    </tr>\n",
       "    <tr>\n",
       "      <th>1</th>\n",
       "      <td>2013</td>\n",
       "      <td>4.75</td>\n",
       "      <td>9.54</td>\n",
       "      <td>43000</td>\n",
       "      <td>Diesel</td>\n",
       "      <td>Dealer</td>\n",
       "      <td>Manual</td>\n",
       "      <td>0</td>\n",
       "      <td>2021</td>\n",
       "      <td>8</td>\n",
       "    </tr>\n",
       "    <tr>\n",
       "      <th>2</th>\n",
       "      <td>2017</td>\n",
       "      <td>7.25</td>\n",
       "      <td>9.85</td>\n",
       "      <td>6900</td>\n",
       "      <td>Petrol</td>\n",
       "      <td>Dealer</td>\n",
       "      <td>Manual</td>\n",
       "      <td>0</td>\n",
       "      <td>2021</td>\n",
       "      <td>4</td>\n",
       "    </tr>\n",
       "    <tr>\n",
       "      <th>3</th>\n",
       "      <td>2011</td>\n",
       "      <td>2.85</td>\n",
       "      <td>4.15</td>\n",
       "      <td>5200</td>\n",
       "      <td>Petrol</td>\n",
       "      <td>Dealer</td>\n",
       "      <td>Manual</td>\n",
       "      <td>0</td>\n",
       "      <td>2021</td>\n",
       "      <td>10</td>\n",
       "    </tr>\n",
       "    <tr>\n",
       "      <th>4</th>\n",
       "      <td>2014</td>\n",
       "      <td>4.60</td>\n",
       "      <td>6.87</td>\n",
       "      <td>42450</td>\n",
       "      <td>Diesel</td>\n",
       "      <td>Dealer</td>\n",
       "      <td>Manual</td>\n",
       "      <td>0</td>\n",
       "      <td>2021</td>\n",
       "      <td>7</td>\n",
       "    </tr>\n",
       "  </tbody>\n",
       "</table>\n",
       "</div>"
      ],
      "text/plain": [
       "   Year  Selling_Price  Present_Price  Kms_Driven Fuel_Type Seller_Type  \\\n",
       "0  2014           3.35           5.59       27000    Petrol      Dealer   \n",
       "1  2013           4.75           9.54       43000    Diesel      Dealer   \n",
       "2  2017           7.25           9.85        6900    Petrol      Dealer   \n",
       "3  2011           2.85           4.15        5200    Petrol      Dealer   \n",
       "4  2014           4.60           6.87       42450    Diesel      Dealer   \n",
       "\n",
       "  Transmission  Owner  Current_Year  no_year  \n",
       "0       Manual      0          2021        7  \n",
       "1       Manual      0          2021        8  \n",
       "2       Manual      0          2021        4  \n",
       "3       Manual      0          2021       10  \n",
       "4       Manual      0          2021        7  "
      ]
     },
     "execution_count": 146,
     "metadata": {},
     "output_type": "execute_result"
    }
   ],
   "source": [
    "final_dataset.head()"
   ]
  },
  {
   "cell_type": "code",
   "execution_count": 147,
   "metadata": {},
   "outputs": [],
   "source": [
    "final_dataset.drop(['Year'],axis=1,inplace=True)"
   ]
  },
  {
   "cell_type": "code",
   "execution_count": 148,
   "metadata": {},
   "outputs": [
    {
     "data": {
      "text/html": [
       "<div>\n",
       "<style scoped>\n",
       "    .dataframe tbody tr th:only-of-type {\n",
       "        vertical-align: middle;\n",
       "    }\n",
       "\n",
       "    .dataframe tbody tr th {\n",
       "        vertical-align: top;\n",
       "    }\n",
       "\n",
       "    .dataframe thead th {\n",
       "        text-align: right;\n",
       "    }\n",
       "</style>\n",
       "<table border=\"1\" class=\"dataframe\">\n",
       "  <thead>\n",
       "    <tr style=\"text-align: right;\">\n",
       "      <th></th>\n",
       "      <th>Selling_Price</th>\n",
       "      <th>Present_Price</th>\n",
       "      <th>Kms_Driven</th>\n",
       "      <th>Fuel_Type</th>\n",
       "      <th>Seller_Type</th>\n",
       "      <th>Transmission</th>\n",
       "      <th>Owner</th>\n",
       "      <th>Current_Year</th>\n",
       "      <th>no_year</th>\n",
       "    </tr>\n",
       "  </thead>\n",
       "  <tbody>\n",
       "    <tr>\n",
       "      <th>0</th>\n",
       "      <td>3.35</td>\n",
       "      <td>5.59</td>\n",
       "      <td>27000</td>\n",
       "      <td>Petrol</td>\n",
       "      <td>Dealer</td>\n",
       "      <td>Manual</td>\n",
       "      <td>0</td>\n",
       "      <td>2021</td>\n",
       "      <td>7</td>\n",
       "    </tr>\n",
       "    <tr>\n",
       "      <th>1</th>\n",
       "      <td>4.75</td>\n",
       "      <td>9.54</td>\n",
       "      <td>43000</td>\n",
       "      <td>Diesel</td>\n",
       "      <td>Dealer</td>\n",
       "      <td>Manual</td>\n",
       "      <td>0</td>\n",
       "      <td>2021</td>\n",
       "      <td>8</td>\n",
       "    </tr>\n",
       "    <tr>\n",
       "      <th>2</th>\n",
       "      <td>7.25</td>\n",
       "      <td>9.85</td>\n",
       "      <td>6900</td>\n",
       "      <td>Petrol</td>\n",
       "      <td>Dealer</td>\n",
       "      <td>Manual</td>\n",
       "      <td>0</td>\n",
       "      <td>2021</td>\n",
       "      <td>4</td>\n",
       "    </tr>\n",
       "    <tr>\n",
       "      <th>3</th>\n",
       "      <td>2.85</td>\n",
       "      <td>4.15</td>\n",
       "      <td>5200</td>\n",
       "      <td>Petrol</td>\n",
       "      <td>Dealer</td>\n",
       "      <td>Manual</td>\n",
       "      <td>0</td>\n",
       "      <td>2021</td>\n",
       "      <td>10</td>\n",
       "    </tr>\n",
       "    <tr>\n",
       "      <th>4</th>\n",
       "      <td>4.60</td>\n",
       "      <td>6.87</td>\n",
       "      <td>42450</td>\n",
       "      <td>Diesel</td>\n",
       "      <td>Dealer</td>\n",
       "      <td>Manual</td>\n",
       "      <td>0</td>\n",
       "      <td>2021</td>\n",
       "      <td>7</td>\n",
       "    </tr>\n",
       "  </tbody>\n",
       "</table>\n",
       "</div>"
      ],
      "text/plain": [
       "   Selling_Price  Present_Price  Kms_Driven Fuel_Type Seller_Type  \\\n",
       "0           3.35           5.59       27000    Petrol      Dealer   \n",
       "1           4.75           9.54       43000    Diesel      Dealer   \n",
       "2           7.25           9.85        6900    Petrol      Dealer   \n",
       "3           2.85           4.15        5200    Petrol      Dealer   \n",
       "4           4.60           6.87       42450    Diesel      Dealer   \n",
       "\n",
       "  Transmission  Owner  Current_Year  no_year  \n",
       "0       Manual      0          2021        7  \n",
       "1       Manual      0          2021        8  \n",
       "2       Manual      0          2021        4  \n",
       "3       Manual      0          2021       10  \n",
       "4       Manual      0          2021        7  "
      ]
     },
     "execution_count": 148,
     "metadata": {},
     "output_type": "execute_result"
    }
   ],
   "source": [
    "final_dataset.head()"
   ]
  },
  {
   "cell_type": "code",
   "execution_count": 149,
   "metadata": {},
   "outputs": [],
   "source": [
    "final_dataset.drop(['Current_Year'],axis=1,inplace=True)"
   ]
  },
  {
   "cell_type": "code",
   "execution_count": 150,
   "metadata": {},
   "outputs": [
    {
     "data": {
      "text/html": [
       "<div>\n",
       "<style scoped>\n",
       "    .dataframe tbody tr th:only-of-type {\n",
       "        vertical-align: middle;\n",
       "    }\n",
       "\n",
       "    .dataframe tbody tr th {\n",
       "        vertical-align: top;\n",
       "    }\n",
       "\n",
       "    .dataframe thead th {\n",
       "        text-align: right;\n",
       "    }\n",
       "</style>\n",
       "<table border=\"1\" class=\"dataframe\">\n",
       "  <thead>\n",
       "    <tr style=\"text-align: right;\">\n",
       "      <th></th>\n",
       "      <th>Selling_Price</th>\n",
       "      <th>Present_Price</th>\n",
       "      <th>Kms_Driven</th>\n",
       "      <th>Fuel_Type</th>\n",
       "      <th>Seller_Type</th>\n",
       "      <th>Transmission</th>\n",
       "      <th>Owner</th>\n",
       "      <th>no_year</th>\n",
       "    </tr>\n",
       "  </thead>\n",
       "  <tbody>\n",
       "    <tr>\n",
       "      <th>0</th>\n",
       "      <td>3.35</td>\n",
       "      <td>5.59</td>\n",
       "      <td>27000</td>\n",
       "      <td>Petrol</td>\n",
       "      <td>Dealer</td>\n",
       "      <td>Manual</td>\n",
       "      <td>0</td>\n",
       "      <td>7</td>\n",
       "    </tr>\n",
       "    <tr>\n",
       "      <th>1</th>\n",
       "      <td>4.75</td>\n",
       "      <td>9.54</td>\n",
       "      <td>43000</td>\n",
       "      <td>Diesel</td>\n",
       "      <td>Dealer</td>\n",
       "      <td>Manual</td>\n",
       "      <td>0</td>\n",
       "      <td>8</td>\n",
       "    </tr>\n",
       "    <tr>\n",
       "      <th>2</th>\n",
       "      <td>7.25</td>\n",
       "      <td>9.85</td>\n",
       "      <td>6900</td>\n",
       "      <td>Petrol</td>\n",
       "      <td>Dealer</td>\n",
       "      <td>Manual</td>\n",
       "      <td>0</td>\n",
       "      <td>4</td>\n",
       "    </tr>\n",
       "    <tr>\n",
       "      <th>3</th>\n",
       "      <td>2.85</td>\n",
       "      <td>4.15</td>\n",
       "      <td>5200</td>\n",
       "      <td>Petrol</td>\n",
       "      <td>Dealer</td>\n",
       "      <td>Manual</td>\n",
       "      <td>0</td>\n",
       "      <td>10</td>\n",
       "    </tr>\n",
       "    <tr>\n",
       "      <th>4</th>\n",
       "      <td>4.60</td>\n",
       "      <td>6.87</td>\n",
       "      <td>42450</td>\n",
       "      <td>Diesel</td>\n",
       "      <td>Dealer</td>\n",
       "      <td>Manual</td>\n",
       "      <td>0</td>\n",
       "      <td>7</td>\n",
       "    </tr>\n",
       "  </tbody>\n",
       "</table>\n",
       "</div>"
      ],
      "text/plain": [
       "   Selling_Price  Present_Price  Kms_Driven Fuel_Type Seller_Type  \\\n",
       "0           3.35           5.59       27000    Petrol      Dealer   \n",
       "1           4.75           9.54       43000    Diesel      Dealer   \n",
       "2           7.25           9.85        6900    Petrol      Dealer   \n",
       "3           2.85           4.15        5200    Petrol      Dealer   \n",
       "4           4.60           6.87       42450    Diesel      Dealer   \n",
       "\n",
       "  Transmission  Owner  no_year  \n",
       "0       Manual      0        7  \n",
       "1       Manual      0        8  \n",
       "2       Manual      0        4  \n",
       "3       Manual      0       10  \n",
       "4       Manual      0        7  "
      ]
     },
     "execution_count": 150,
     "metadata": {},
     "output_type": "execute_result"
    }
   ],
   "source": [
    "final_dataset.head()"
   ]
  },
  {
   "cell_type": "code",
   "execution_count": 151,
   "metadata": {},
   "outputs": [],
   "source": [
    "final_dataset=pd.get_dummies(final_dataset,drop_first=True)"
   ]
  },
  {
   "cell_type": "code",
   "execution_count": 152,
   "metadata": {},
   "outputs": [
    {
     "data": {
      "text/html": [
       "<div>\n",
       "<style scoped>\n",
       "    .dataframe tbody tr th:only-of-type {\n",
       "        vertical-align: middle;\n",
       "    }\n",
       "\n",
       "    .dataframe tbody tr th {\n",
       "        vertical-align: top;\n",
       "    }\n",
       "\n",
       "    .dataframe thead th {\n",
       "        text-align: right;\n",
       "    }\n",
       "</style>\n",
       "<table border=\"1\" class=\"dataframe\">\n",
       "  <thead>\n",
       "    <tr style=\"text-align: right;\">\n",
       "      <th></th>\n",
       "      <th>Selling_Price</th>\n",
       "      <th>Present_Price</th>\n",
       "      <th>Kms_Driven</th>\n",
       "      <th>Owner</th>\n",
       "      <th>no_year</th>\n",
       "      <th>Fuel_Type_Diesel</th>\n",
       "      <th>Fuel_Type_Petrol</th>\n",
       "      <th>Seller_Type_Individual</th>\n",
       "      <th>Transmission_Manual</th>\n",
       "    </tr>\n",
       "  </thead>\n",
       "  <tbody>\n",
       "    <tr>\n",
       "      <th>0</th>\n",
       "      <td>3.35</td>\n",
       "      <td>5.59</td>\n",
       "      <td>27000</td>\n",
       "      <td>0</td>\n",
       "      <td>7</td>\n",
       "      <td>0</td>\n",
       "      <td>1</td>\n",
       "      <td>0</td>\n",
       "      <td>1</td>\n",
       "    </tr>\n",
       "    <tr>\n",
       "      <th>1</th>\n",
       "      <td>4.75</td>\n",
       "      <td>9.54</td>\n",
       "      <td>43000</td>\n",
       "      <td>0</td>\n",
       "      <td>8</td>\n",
       "      <td>1</td>\n",
       "      <td>0</td>\n",
       "      <td>0</td>\n",
       "      <td>1</td>\n",
       "    </tr>\n",
       "    <tr>\n",
       "      <th>2</th>\n",
       "      <td>7.25</td>\n",
       "      <td>9.85</td>\n",
       "      <td>6900</td>\n",
       "      <td>0</td>\n",
       "      <td>4</td>\n",
       "      <td>0</td>\n",
       "      <td>1</td>\n",
       "      <td>0</td>\n",
       "      <td>1</td>\n",
       "    </tr>\n",
       "    <tr>\n",
       "      <th>3</th>\n",
       "      <td>2.85</td>\n",
       "      <td>4.15</td>\n",
       "      <td>5200</td>\n",
       "      <td>0</td>\n",
       "      <td>10</td>\n",
       "      <td>0</td>\n",
       "      <td>1</td>\n",
       "      <td>0</td>\n",
       "      <td>1</td>\n",
       "    </tr>\n",
       "    <tr>\n",
       "      <th>4</th>\n",
       "      <td>4.60</td>\n",
       "      <td>6.87</td>\n",
       "      <td>42450</td>\n",
       "      <td>0</td>\n",
       "      <td>7</td>\n",
       "      <td>1</td>\n",
       "      <td>0</td>\n",
       "      <td>0</td>\n",
       "      <td>1</td>\n",
       "    </tr>\n",
       "  </tbody>\n",
       "</table>\n",
       "</div>"
      ],
      "text/plain": [
       "   Selling_Price  Present_Price  Kms_Driven  Owner  no_year  Fuel_Type_Diesel  \\\n",
       "0           3.35           5.59       27000      0        7                 0   \n",
       "1           4.75           9.54       43000      0        8                 1   \n",
       "2           7.25           9.85        6900      0        4                 0   \n",
       "3           2.85           4.15        5200      0       10                 0   \n",
       "4           4.60           6.87       42450      0        7                 1   \n",
       "\n",
       "   Fuel_Type_Petrol  Seller_Type_Individual  Transmission_Manual  \n",
       "0                 1                       0                    1  \n",
       "1                 0                       0                    1  \n",
       "2                 1                       0                    1  \n",
       "3                 1                       0                    1  \n",
       "4                 0                       0                    1  "
      ]
     },
     "execution_count": 152,
     "metadata": {},
     "output_type": "execute_result"
    }
   ],
   "source": [
    "final_dataset.head()"
   ]
  },
  {
   "cell_type": "code",
   "execution_count": 153,
   "metadata": {},
   "outputs": [
    {
     "data": {
      "text/html": [
       "<div>\n",
       "<style scoped>\n",
       "    .dataframe tbody tr th:only-of-type {\n",
       "        vertical-align: middle;\n",
       "    }\n",
       "\n",
       "    .dataframe tbody tr th {\n",
       "        vertical-align: top;\n",
       "    }\n",
       "\n",
       "    .dataframe thead th {\n",
       "        text-align: right;\n",
       "    }\n",
       "</style>\n",
       "<table border=\"1\" class=\"dataframe\">\n",
       "  <thead>\n",
       "    <tr style=\"text-align: right;\">\n",
       "      <th></th>\n",
       "      <th>Selling_Price</th>\n",
       "      <th>Present_Price</th>\n",
       "      <th>Kms_Driven</th>\n",
       "      <th>Owner</th>\n",
       "      <th>no_year</th>\n",
       "      <th>Fuel_Type_Diesel</th>\n",
       "      <th>Fuel_Type_Petrol</th>\n",
       "      <th>Seller_Type_Individual</th>\n",
       "      <th>Transmission_Manual</th>\n",
       "    </tr>\n",
       "  </thead>\n",
       "  <tbody>\n",
       "    <tr>\n",
       "      <th>Selling_Price</th>\n",
       "      <td>1.000000</td>\n",
       "      <td>0.878976</td>\n",
       "      <td>0.028081</td>\n",
       "      <td>-0.088535</td>\n",
       "      <td>-0.237854</td>\n",
       "      <td>0.552338</td>\n",
       "      <td>-0.540734</td>\n",
       "      <td>-0.551457</td>\n",
       "      <td>-0.366460</td>\n",
       "    </tr>\n",
       "    <tr>\n",
       "      <th>Present_Price</th>\n",
       "      <td>0.878976</td>\n",
       "      <td>1.000000</td>\n",
       "      <td>0.202698</td>\n",
       "      <td>0.007856</td>\n",
       "      <td>0.045647</td>\n",
       "      <td>0.471038</td>\n",
       "      <td>-0.463129</td>\n",
       "      <td>-0.512898</td>\n",
       "      <td>-0.348273</td>\n",
       "    </tr>\n",
       "    <tr>\n",
       "      <th>Kms_Driven</th>\n",
       "      <td>0.028081</td>\n",
       "      <td>0.202698</td>\n",
       "      <td>1.000000</td>\n",
       "      <td>0.089222</td>\n",
       "      <td>0.524542</td>\n",
       "      <td>0.164622</td>\n",
       "      <td>-0.165109</td>\n",
       "      <td>-0.101370</td>\n",
       "      <td>-0.162526</td>\n",
       "    </tr>\n",
       "    <tr>\n",
       "      <th>Owner</th>\n",
       "      <td>-0.088535</td>\n",
       "      <td>0.007856</td>\n",
       "      <td>0.089222</td>\n",
       "      <td>1.000000</td>\n",
       "      <td>0.181647</td>\n",
       "      <td>-0.054582</td>\n",
       "      <td>0.056784</td>\n",
       "      <td>0.124269</td>\n",
       "      <td>-0.050316</td>\n",
       "    </tr>\n",
       "    <tr>\n",
       "      <th>no_year</th>\n",
       "      <td>-0.237854</td>\n",
       "      <td>0.045647</td>\n",
       "      <td>0.524542</td>\n",
       "      <td>0.181647</td>\n",
       "      <td>1.000000</td>\n",
       "      <td>-0.079290</td>\n",
       "      <td>0.074746</td>\n",
       "      <td>0.042992</td>\n",
       "      <td>-0.002181</td>\n",
       "    </tr>\n",
       "    <tr>\n",
       "      <th>Fuel_Type_Diesel</th>\n",
       "      <td>0.552338</td>\n",
       "      <td>0.471038</td>\n",
       "      <td>0.164622</td>\n",
       "      <td>-0.054582</td>\n",
       "      <td>-0.079290</td>\n",
       "      <td>1.000000</td>\n",
       "      <td>-0.979890</td>\n",
       "      <td>-0.354399</td>\n",
       "      <td>-0.094800</td>\n",
       "    </tr>\n",
       "    <tr>\n",
       "      <th>Fuel_Type_Petrol</th>\n",
       "      <td>-0.540734</td>\n",
       "      <td>-0.463129</td>\n",
       "      <td>-0.165109</td>\n",
       "      <td>0.056784</td>\n",
       "      <td>0.074746</td>\n",
       "      <td>-0.979890</td>\n",
       "      <td>1.000000</td>\n",
       "      <td>0.362233</td>\n",
       "      <td>0.087280</td>\n",
       "    </tr>\n",
       "    <tr>\n",
       "      <th>Seller_Type_Individual</th>\n",
       "      <td>-0.551457</td>\n",
       "      <td>-0.512898</td>\n",
       "      <td>-0.101370</td>\n",
       "      <td>0.124269</td>\n",
       "      <td>0.042992</td>\n",
       "      <td>-0.354399</td>\n",
       "      <td>0.362233</td>\n",
       "      <td>1.000000</td>\n",
       "      <td>0.063240</td>\n",
       "    </tr>\n",
       "    <tr>\n",
       "      <th>Transmission_Manual</th>\n",
       "      <td>-0.366460</td>\n",
       "      <td>-0.348273</td>\n",
       "      <td>-0.162526</td>\n",
       "      <td>-0.050316</td>\n",
       "      <td>-0.002181</td>\n",
       "      <td>-0.094800</td>\n",
       "      <td>0.087280</td>\n",
       "      <td>0.063240</td>\n",
       "      <td>1.000000</td>\n",
       "    </tr>\n",
       "  </tbody>\n",
       "</table>\n",
       "</div>"
      ],
      "text/plain": [
       "                        Selling_Price  Present_Price  Kms_Driven     Owner  \\\n",
       "Selling_Price                1.000000       0.878976    0.028081 -0.088535   \n",
       "Present_Price                0.878976       1.000000    0.202698  0.007856   \n",
       "Kms_Driven                   0.028081       0.202698    1.000000  0.089222   \n",
       "Owner                       -0.088535       0.007856    0.089222  1.000000   \n",
       "no_year                     -0.237854       0.045647    0.524542  0.181647   \n",
       "Fuel_Type_Diesel             0.552338       0.471038    0.164622 -0.054582   \n",
       "Fuel_Type_Petrol            -0.540734      -0.463129   -0.165109  0.056784   \n",
       "Seller_Type_Individual      -0.551457      -0.512898   -0.101370  0.124269   \n",
       "Transmission_Manual         -0.366460      -0.348273   -0.162526 -0.050316   \n",
       "\n",
       "                         no_year  Fuel_Type_Diesel  Fuel_Type_Petrol  \\\n",
       "Selling_Price          -0.237854          0.552338         -0.540734   \n",
       "Present_Price           0.045647          0.471038         -0.463129   \n",
       "Kms_Driven              0.524542          0.164622         -0.165109   \n",
       "Owner                   0.181647         -0.054582          0.056784   \n",
       "no_year                 1.000000         -0.079290          0.074746   \n",
       "Fuel_Type_Diesel       -0.079290          1.000000         -0.979890   \n",
       "Fuel_Type_Petrol        0.074746         -0.979890          1.000000   \n",
       "Seller_Type_Individual  0.042992         -0.354399          0.362233   \n",
       "Transmission_Manual    -0.002181         -0.094800          0.087280   \n",
       "\n",
       "                        Seller_Type_Individual  Transmission_Manual  \n",
       "Selling_Price                        -0.551457            -0.366460  \n",
       "Present_Price                        -0.512898            -0.348273  \n",
       "Kms_Driven                           -0.101370            -0.162526  \n",
       "Owner                                 0.124269            -0.050316  \n",
       "no_year                               0.042992            -0.002181  \n",
       "Fuel_Type_Diesel                     -0.354399            -0.094800  \n",
       "Fuel_Type_Petrol                      0.362233             0.087280  \n",
       "Seller_Type_Individual                1.000000             0.063240  \n",
       "Transmission_Manual                   0.063240             1.000000  "
      ]
     },
     "execution_count": 153,
     "metadata": {},
     "output_type": "execute_result"
    }
   ],
   "source": [
    "final_dataset.corr()"
   ]
  },
  {
   "cell_type": "code",
   "execution_count": 154,
   "metadata": {},
   "outputs": [
    {
     "data": {
      "image/png": "[encoded data removed]",
      "text/plain": [
       "<Figure size 1440x1440 with 2 Axes>"
      ]
     },
     "metadata": {},
     "output_type": "display_data"
    }
   ],
   "source": [
    "corrmat=final_dataset.corr()\n",
    "top_corr_features=corrmat.index\n",
    "plt.figure(figsize=(20,20))\n",
    "g=sns.heatmap(final_dataset[top_corr_features].corr(),annot=True,cmap=\"RdYlGn\")"
   ]
  },
  {
   "cell_type": "code",
   "execution_count": 155,
   "metadata": {},
   "outputs": [
    {
     "data": {
      "text/plain": [
       "0    3.35\n",
       "1    4.75\n",
       "2    7.25\n",
       "3    2.85\n",
       "4    4.60\n",
       "Name: Selling_Price, dtype: float64"
      ]
     },
     "execution_count": 155,
     "metadata": {},
     "output_type": "execute_result"
    }
   ],
   "source": [
    "y=final_dataset['Selling_Price']\n",
    "y.head()"
   ]
  },
  {
   "cell_type": "code",
   "execution_count": 156,
   "metadata": {},
   "outputs": [
    {
     "data": {
      "text/html": [
       "<div>\n",
       "<style scoped>\n",
       "    .dataframe tbody tr th:only-of-type {\n",
       "        vertical-align: middle;\n",
       "    }\n",
       "\n",
       "    .dataframe tbody tr th {\n",
       "        vertical-align: top;\n",
       "    }\n",
       "\n",
       "    .dataframe thead th {\n",
       "        text-align: right;\n",
       "    }\n",
       "</style>\n",
       "<table border=\"1\" class=\"dataframe\">\n",
       "  <thead>\n",
       "    <tr style=\"text-align: right;\">\n",
       "      <th></th>\n",
       "      <th>Present_Price</th>\n",
       "      <th>Kms_Driven</th>\n",
       "      <th>Owner</th>\n",
       "      <th>no_year</th>\n",
       "      <th>Fuel_Type_Diesel</th>\n",
       "      <th>Fuel_Type_Petrol</th>\n",
       "      <th>Seller_Type_Individual</th>\n",
       "      <th>Transmission_Manual</th>\n",
       "    </tr>\n",
       "  </thead>\n",
       "  <tbody>\n",
       "    <tr>\n",
       "      <th>0</th>\n",
       "      <td>5.59</td>\n",
       "      <td>27000</td>\n",
       "      <td>0</td>\n",
       "      <td>7</td>\n",
       "      <td>0</td>\n",
       "      <td>1</td>\n",
       "      <td>0</td>\n",
       "      <td>1</td>\n",
       "    </tr>\n",
       "    <tr>\n",
       "      <th>1</th>\n",
       "      <td>9.54</td>\n",
       "      <td>43000</td>\n",
       "      <td>0</td>\n",
       "      <td>8</td>\n",
       "      <td>1</td>\n",
       "      <td>0</td>\n",
       "      <td>0</td>\n",
       "      <td>1</td>\n",
       "    </tr>\n",
       "    <tr>\n",
       "      <th>2</th>\n",
       "      <td>9.85</td>\n",
       "      <td>6900</td>\n",
       "      <td>0</td>\n",
       "      <td>4</td>\n",
       "      <td>0</td>\n",
       "      <td>1</td>\n",
       "      <td>0</td>\n",
       "      <td>1</td>\n",
       "    </tr>\n",
       "    <tr>\n",
       "      <th>3</th>\n",
       "      <td>4.15</td>\n",
       "      <td>5200</td>\n",
       "      <td>0</td>\n",
       "      <td>10</td>\n",
       "      <td>0</td>\n",
       "      <td>1</td>\n",
       "      <td>0</td>\n",
       "      <td>1</td>\n",
       "    </tr>\n",
       "    <tr>\n",
       "      <th>4</th>\n",
       "      <td>6.87</td>\n",
       "      <td>42450</td>\n",
       "      <td>0</td>\n",
       "      <td>7</td>\n",
       "      <td>1</td>\n",
       "      <td>0</td>\n",
       "      <td>0</td>\n",
       "      <td>1</td>\n",
       "    </tr>\n",
       "  </tbody>\n",
       "</table>\n",
       "</div>"
      ],
      "text/plain": [
       "   Present_Price  Kms_Driven  Owner  no_year  Fuel_Type_Diesel  \\\n",
       "0           5.59       27000      0        7                 0   \n",
       "1           9.54       43000      0        8                 1   \n",
       "2           9.85        6900      0        4                 0   \n",
       "3           4.15        5200      0       10                 0   \n",
       "4           6.87       42450      0        7                 1   \n",
       "\n",
       "   Fuel_Type_Petrol  Seller_Type_Individual  Transmission_Manual  \n",
       "0                 1                       0                    1  \n",
       "1                 0                       0                    1  \n",
       "2                 1                       0                    1  \n",
       "3                 1                       0                    1  \n",
       "4                 0                       0                    1  "
      ]
     },
     "execution_count": 156,
     "metadata": {},
     "output_type": "execute_result"
    }
   ],
   "source": [
    "X=final_dataset.drop(['Selling_Price'],axis=1)\n",
    "X.head()"
   ]
  },
  {
   "cell_type": "code",
   "execution_count": 157,
   "metadata": {},
   "outputs": [
    {
     "data": {
      "text/plain": [
       "ExtraTreesRegressor()"
      ]
     },
     "execution_count": 157,
     "metadata": {},
     "output_type": "execute_result"
    }
   ],
   "source": [
    "from sklearn.ensemble import ExtraTreesRegressor\n",
    "model=ExtraTreesRegressor()\n",
    "model.fit(X,y)"
   ]
  },
  {
   "cell_type": "code",
   "execution_count": 158,
   "metadata": {},
   "outputs": [
    {
     "name": "stdout",
     "output_type": "stream",
     "text": [
      "[0.38763162 0.04332823 0.00082451 0.07676901 0.22221142 0.0145999\n",
      " 0.12355969 0.13107562]\n"
     ]
    }
   ],
   "source": [
    "print(model.feature_importances_)"
   ]
  },
  {
   "cell_type": "code",
   "execution_count": 159,
   "metadata": {},
   "outputs": [
    {
     "data": {
      "image/png": "[encoded data removed]",
      "text/plain": [
       "<Figure size 432x288 with 1 Axes>"
      ]
     },
     "metadata": {},
     "output_type": "display_data"
    }
   ],
   "source": [
    "feat_importances=pd.Series(model.feature_importances_,index=X.columns)\n",
    "feat_importances.nlargest(5).plot(kind='barh')\n",
    "plt.show()"
   ]
  },
  {
   "cell_type": "code",
   "execution_count": 160,
   "metadata": {},
   "outputs": [],
   "source": [
    "#For user input\n",
    "Duplicate_Input=X"
   ]
  },
  {
   "cell_type": "code",
   "execution_count": 161,
   "metadata": {},
   "outputs": [],
   "source": [
    "from sklearn.preprocessing import StandardScaler\n",
    "scaler=StandardScaler()\n",
    "X=scaler.fit_transform(X)"
   ]
  },
  {
   "cell_type": "code",
   "execution_count": 162,
   "metadata": {},
   "outputs": [
    {
     "data": {
      "text/plain": [
       "array([[-0.23737696, -0.25615198, -0.17450057, -0.1234372 , -0.50414945,\n",
       "         0.51449576, -0.73728539,  0.39148015],\n",
       "       [ 0.22035657,  0.15596275, -0.17450057,  0.22058684,  1.98353881,\n",
       "        -1.94365063, -0.73728539,  0.39148015],\n",
       "       [ 0.25627996, -0.7738711 , -0.17450057, -1.15550932, -0.50414945,\n",
       "         0.51449576, -0.73728539,  0.39148015],\n",
       "       [-0.40424691, -0.81765829, -0.17450057,  0.90863492, -0.50414945,\n",
       "         0.51449576, -0.73728539,  0.39148015],\n",
       "       [-0.08904812,  0.1417963 , -0.17450057, -0.1234372 ,  1.98353881,\n",
       "        -1.94365063, -0.73728539,  0.39148015]])"
      ]
     },
     "execution_count": 162,
     "metadata": {},
     "output_type": "execute_result"
    }
   ],
   "source": [
    "X[:5]"
   ]
  },
  {
   "cell_type": "code",
   "execution_count": 163,
   "metadata": {},
   "outputs": [],
   "source": [
    "from sklearn.model_selection import train_test_split\n",
    "X_train, X_test, y_train, y_test = train_test_split(X, y, test_size=0.3, random_state=2)"
   ]
  },
  {
   "cell_type": "code",
   "execution_count": 164,
   "metadata": {},
   "outputs": [
    {
     "data": {
      "text/plain": [
       "RandomForestRegressor()"
      ]
     },
     "execution_count": 164,
     "metadata": {},
     "output_type": "execute_result"
    }
   ],
   "source": [
    "from sklearn.ensemble import RandomForestRegressor\n",
    "random_forest_regressor=RandomForestRegressor()\n",
    "random_forest_regressor.fit(X_train,y_train)"
   ]
  },
  {
   "cell_type": "code",
   "execution_count": 165,
   "metadata": {},
   "outputs": [
    {
     "data": {
      "text/plain": [
       "0.9885208028042681"
      ]
     },
     "execution_count": 165,
     "metadata": {},
     "output_type": "execute_result"
    }
   ],
   "source": [
    "random_forest_regressor.score(X_train,y_train)"
   ]
  },
  {
   "cell_type": "code",
   "execution_count": 166,
   "metadata": {},
   "outputs": [
    {
     "data": {
      "text/plain": [
       "array([ 8.6042,  0.5698,  3.9455,  3.2615, 10.4509,  4.9405,  3.3725,\n",
       "        6.878 ,  0.2598,  5.6605,  7.0638,  3.932 ,  0.3439,  8.9136,\n",
       "        2.275 ,  0.6798,  0.6652,  0.4222, 10.0745,  4.1025,  1.2016,\n",
       "        7.2875,  0.4482,  9.854 ,  0.6032,  7.513 ,  0.5789,  0.1884,\n",
       "        3.1125,  1.931 ,  0.4124,  3.2555,  6.2245,  9.3131,  0.4188,\n",
       "        5.0195,  7.6974,  5.6745,  6.9324,  4.946 , 17.3761,  0.7348,\n",
       "        0.4164,  0.4859,  6.496 ,  7.2717,  0.3556,  5.0068, 16.333 ,\n",
       "        2.3771,  7.559 ,  0.5012,  6.7665,  0.5897,  0.7395,  0.4454,\n",
       "        0.3886,  4.8071,  0.5112,  0.1826,  8.0461,  7.2717,  2.0416,\n",
       "        2.6985,  0.4908,  3.3599,  2.2071,  1.122 ,  0.7969,  0.6193,\n",
       "        0.583 ,  4.337 ,  5.1965,  0.5155,  3.0759,  3.9525,  0.4124,\n",
       "        1.544 ,  6.6074,  5.1063,  4.733 ,  4.1978,  3.03  ,  5.211 ,\n",
       "        1.1314,  0.4985,  2.6195,  1.802 ,  5.0825,  1.098 ,  5.8198])"
      ]
     },
     "execution_count": 166,
     "metadata": {},
     "output_type": "execute_result"
    }
   ],
   "source": [
    "predictions=random_forest_regressor.predict(X_test)\n",
    "predictions"
   ]
  },
  {
   "cell_type": "code",
   "execution_count": 167,
   "metadata": {},
   "outputs": [
    {
     "name": "stderr",
     "output_type": "stream",
     "text": [
      "C:\\Users\\Hetvi\\AppData\\Local\\Programs\\Python\\Python39\\lib\\site-packages\\seaborn\\distributions.py:2619: FutureWarning: `distplot` is a deprecated function and will be removed in a future version. Please adapt your code to use either `displot` (a figure-level function with similar flexibility) or `histplot` (an axes-level function for histograms).\n",
      "  warnings.warn(msg, FutureWarning)\n"
     ]
    },
    {
     "data": {
      "text/plain": [
       "<AxesSubplot:xlabel='Selling_Price', ylabel='Density'>"
      ]
     },
     "execution_count": 167,
     "metadata": {},
     "output_type": "execute_result"
    },
    {
     "data": {
      "image/png": "[encoded data removed]",
      "text/plain": [
       "<Figure size 432x288 with 1 Axes>"
      ]
     },
     "metadata": {},
     "output_type": "display_data"
    }
   ],
   "source": [
    "sns.distplot(y_test-predictions)"
   ]
  },
  {
   "cell_type": "code",
   "execution_count": 168,
   "metadata": {},
   "outputs": [
    {
     "data": {
      "text/plain": [
       "<matplotlib.collections.PathCollection at 0x1bc997ca070>"
      ]
     },
     "execution_count": 168,
     "metadata": {},
     "output_type": "execute_result"
    },
    {
     "data": {
      "image/png": "[encoded data removed]",
      "text/plain": [
       "<Figure size 432x288 with 1 Axes>"
      ]
     },
     "metadata": {},
     "output_type": "display_data"
    }
   ],
   "source": [
    "plt.scatter(y_test,predictions)"
   ]
  },
  {
   "cell_type": "code",
   "execution_count": 169,
   "metadata": {},
   "outputs": [],
   "source": [
    "#Working on user input"
   ]
  },
  {
   "cell_type": "code",
   "execution_count": 170,
   "metadata": {},
   "outputs": [],
   "source": [
    "user_input=np.array([[5.59,27000,0,7,0,1,0,1]])"
   ]
  },
  {
   "cell_type": "code",
   "execution_count": 171,
   "metadata": {},
   "outputs": [],
   "source": [
    "new_X=np.append(Duplicate_Input,user_input,axis=0)"
   ]
  },
  {
   "cell_type": "code",
   "execution_count": 172,
   "metadata": {},
   "outputs": [
    {
     "data": {
      "text/plain": [
       "(302, 8)"
      ]
     },
     "execution_count": 172,
     "metadata": {},
     "output_type": "execute_result"
    }
   ],
   "source": [
    "new_X.shape"
   ]
  },
  {
   "cell_type": "code",
   "execution_count": 173,
   "metadata": {},
   "outputs": [],
   "source": [
    "#Normalizing user input\n",
    "new_arr=scaler.fit_transform(new_X)\n",
    "get_value=new_arr[301]"
   ]
  },
  {
   "cell_type": "code",
   "execution_count": 174,
   "metadata": {},
   "outputs": [
    {
     "data": {
      "text/plain": [
       "array([3.784])"
      ]
     },
     "execution_count": 174,
     "metadata": {},
     "output_type": "execute_result"
    }
   ],
   "source": [
    "random_forest_regressor.predict([get_value])"
   ]
  },
  {
   "cell_type": "code",
   "execution_count": 175,
   "metadata": {},
   "outputs": [
    {
     "name": "stdout",
     "output_type": "stream",
     "text": [
      "Dimension:  (302, 8)\n",
      "[16.9435]\n",
      "Dimension:  (302, 8)\n",
      "[16.9435]\n",
      "\n"
     ]
    }
   ],
   "source": [
    "import tkinter as tk\n",
    "from PIL import ImageTk\n",
    "from tkinter import StringVar, messagebox\n",
    "import re\n",
    "import mysql.connector as db_con\n",
    "\n",
    "from ibm_watson import LanguageTranslatorV3\n",
    "from ibm_cloud_sdk_core.authenticators import IAMAuthenticator\n",
    "apikey='yRKxXhmjDMDiFqJRXnpr_hIlYIy4i3jpW5x7lw-igGza'\n",
    "url='https://api.eu-gb.language-translator.watson.cloud.ibm.com/instances/4e8d295a-bd32-4cb1-8675-c1aa9c31fab7'\n",
    "authenticator=IAMAuthenticator(apikey)\n",
    "lt=LanguageTranslatorV3(version='2018-05-01',authenticator=authenticator)\n",
    "lt.set_service_url(url)\n",
    "\n",
    "class window1:\n",
    "\n",
    "    def __init__(self, root):\n",
    "        self.root = root\n",
    "        self.root.title(\"USED CAR PRICE PREDICTION\")\n",
    "        self.root.geometry(\"1280x1000\")\n",
    "        self.root.resizable(False,False)\n",
    "        self.frame = tk.Frame(self.root)\n",
    "        self.bg= ImageTk.PhotoImage(file = 'win1.jpg')\n",
    "        self.bg_image = tk.Label(self.root ,image=self.bg).place(x=2,y=1,relwidth=1.5,relheight=0.7)\n",
    "        self.fname = tk.StringVar()\n",
    "        self.contact = tk.StringVar()\n",
    "\n",
    "        #login frame\n",
    "        Frame_login=tk.Frame(self.root,bg=\"white\")\n",
    "        Frame_login.place(x=0,y=0,height=1500,width=620)\n",
    "       \n",
    "        title=tk.Label(Frame_login,text=\"USED CAR PRICE \",font=(\"times new roman\",40,\"bold\"),fg=\"#52CCB5\",bg=\"white\").place(x=60,y=90)\n",
    "        title=tk.Label(Frame_login,text=\"PREDICTION\",font=(\"times new roman\",40,\"bold\"),fg=\"#52CCB5\",bg=\"white\").place(x=110,y=160)\n",
    "        title=tk.Label(Frame_login,text=\"Wanna buy or sell a car without any hassle? \",font=(\"times new roman\",18,\"bold\"),fg=\"#333333\",bg=\"white\").place(x=50,y=260)\n",
    "        title=tk.Label(Frame_login,text=\"Voilaaa! \",font=(\"times new roman\",18,\"bold\"),fg=\"#333333\",bg=\"white\").place(x=210,y=310)\n",
    "\n",
    "        Login_btn=tk.Button(Frame_login,text='START',fg='white',bg='#52CCB5',font=('times new roman',20),command = self.new_window).place(x=197,y=450,width=120,height=30)\n",
    "        \n",
    "        #  language \n",
    "        lang=['Arabic','Bengali','Bulgarian','Chinese','Croatian', 'Czech','Dutch','English','French','Finnish','German','Greek','Hebrew','Hindi','Korean','Latvian','Malayalam','Portuguese','Russian','Slovak','Spanish','Tamil','Telugu','Thai']\n",
    "        self.clicked4=tk.StringVar()\n",
    "        self.clicked4.set('Select Language')\n",
    "        tk.OptionMenu(Frame_login, self.clicked4 , *lang ).place(x=190,y=370,width=140,height=30)\n",
    "        self.frame.pack()   \n",
    "\n",
    "\n",
    "    def close_windows(self):\n",
    "        print('above')\n",
    "        #self.root.destroy()\n",
    "        print('hello',self.get_lang())\n",
    "        self.new_window\n",
    "\n",
    "    def language_select(lang):\n",
    "         if lang == 'Select Language':\n",
    "             return False\n",
    "         else:\n",
    "             return True\n",
    "\n",
    "    def new_window(self):\n",
    "        lang=self.clicked4.get()\n",
    "        if window1.language_select(lang):\n",
    "            self.app = window2(self.root,self.clicked4.get())\n",
    "        else:\n",
    "            messagebox.showerror('Error', 'Please select your language')\n",
    "        \n",
    "class window2:\n",
    "\n",
    "    def __init__(self, root,clicked4):\n",
    "        self.root = root\n",
    "        self.root.title(\"USER DETAILS\")\n",
    "        self.root.geometry(\"1280x1000\")\n",
    "        self.root.resizable(False,False)\n",
    "        self.clicked4=clicked4\n",
    "        self.frame = tk.Frame(self.root)\n",
    "        # self.frame2=tk.Frame(self.root)\n",
    "        self.bg= ImageTk.PhotoImage(file = 'win2.png')\n",
    "        self.bg_image = tk.Label(self.root ,image=self.bg).place(x=0,y=0,relwidth=1,relheight=1)\n",
    "        self.fname = tk.StringVar()\n",
    "        self.contact = tk.StringVar()\n",
    "\n",
    "        #login frame\n",
    "        Frame_login=tk.Frame(self.root,bg=\"white\")\n",
    "        Frame_login.place(x=2,y=8,height=240,width=1300)\n",
    "       \n",
    "        title=tk.Label(Frame_login,text=self.api(\"USER DETAILS\"),font=(\"Impact\",35,\"bold\"),fg=\"#52CCB5\",bg=\"white\").place(x=90,y=10)\n",
    "\n",
    "        lbl_user=tk.Label(Frame_login,text=self.api('NAME'),font=('times new roman',14,'bold'),fg='#52CCB5',bg='white').place(x=90,y=90)\n",
    "        self.txt_user=tk.Entry(Frame_login,textvariable=self.fname,font=('times new roman',15),bg='white')\n",
    "        self.txt_user.place(x=90,y=120,width=200,height=30)\n",
    "\n",
    "        lbl_user=tk.Label(Frame_login,text=self.api('CONTACT'),font=('times new roman',14,'bold'),fg='#52CCB5',bg='white').place(x=90,y=170)\n",
    "        self.txt_pass=tk.Entry(Frame_login,textvariable=self.contact,font=('times new roman',15),bg='white')\n",
    "        self.txt_pass.place(x=90,y=200,width=200,height=30)\n",
    "\n",
    "        Login_btn=tk.Button(Frame_login,text=self.api('Next'),fg='white',bg='#52CCB5',font=('times new roman',15),command = self.new_window).place(x=330,y=200,width=100,height=30)\n",
    "        \n",
    "        \n",
    "\n",
    "\n",
    "    def close_windows(self):\n",
    "        print('above')\n",
    "        #self.root.destroy()\n",
    "        print('hello',self.get_lang())\n",
    "        self.new_window\n",
    "\n",
    "    def var_form_value(value):\n",
    "        if(value == ''):\n",
    "            return False\n",
    "        else:\n",
    "            return True\n",
    "    \n",
    "    def var_contact(value):\n",
    "        if(len(value) == 10):\n",
    "            if(re.search('^[6789][0-9]{9}$',value)):\n",
    "                return True\n",
    "            else:\n",
    "                return False\n",
    "        else:\n",
    "            return False\n",
    "\n",
    "    \n",
    "    def api(self,line):\n",
    "        self.line=line\n",
    "        if self.clicked4=='Hindi':\n",
    "            str='en-hi'\n",
    "        elif self.clicked4=='Spanish':\n",
    "            str='en-es'\n",
    "        elif self.clicked4=='French':\n",
    "            str='en-fr'\n",
    "        elif self.clicked4=='German':\n",
    "            str='en-de'\n",
    "        elif self.clicked4=='English':\n",
    "            return self.line\n",
    "        elif self.clicked4=='Russian':\n",
    "            str='en-ru'\n",
    "        elif self.clicked4=='Gujarati':\n",
    "            str='en-gu'\n",
    "        elif self.clicked4=='Dutch':\n",
    "            str='en-nl'\n",
    "        elif self.clicked4=='Chinese':\n",
    "            str='en-zh-TW'\n",
    "        elif self.clicked4=='Hebrew':\n",
    "            str='en-he'\n",
    "        elif self.clicked4=='Tamil':\n",
    "            str='en-ta'\n",
    "        elif self.clicked4=='Telegu':\n",
    "            str='en-te'\n",
    "        elif self.clicked4=='Thai':\n",
    "            str='en-th'\n",
    "        elif self.clicked4=='Czech':\n",
    "            str='en-cs'\n",
    "        elif self.clicked4=='Arabic':\n",
    "            str='en-ar'\n",
    "        elif self.clicked4=='Bengali':\n",
    "            str='en-bn'\n",
    "        elif self.clicked4=='Korean':\n",
    "            str='en-ko'\n",
    "        elif self.clicked4=='Malayalam':\n",
    "            str='en-ml'\n",
    "        elif self.clicked4=='Nepali':\n",
    "            str='en-ne'\n",
    "        elif self.clicked4=='Latvian':\n",
    "            str='en-lv'\n",
    "        elif self.clicked4=='Bulgarian':\n",
    "            str='en-bg'\n",
    "        elif self.clicked4=='Croatian':\n",
    "            str='en-hr'\n",
    "        elif self.clicked4=='Finnish':\n",
    "            str='en-fi'\n",
    "        elif self.clicked4=='Slovak':\n",
    "            str='en-sk'\n",
    "        elif self.clicked4=='Portuguese':\n",
    "            str='en-pt'\n",
    "        elif self.clicked4=='Greek':\n",
    "            str='en-el'\n",
    "            \n",
    "        translation=lt.translate(text=self.line,model_id=str).get_result()\n",
    "        return translation['translations'][0]['translation']\n",
    "\n",
    "    def new_window(self):\n",
    "        name = self.fname.get()\n",
    "        contact = self.contact.get()\n",
    "        lang=self.clicked4\n",
    "        if(window2.var_form_value(name)):\n",
    "            if(window2.var_form_value(contact)):\n",
    "                 if(window2.var_contact(contact)):\n",
    "                        self.app = window3(self.root,name,contact,self.clicked4) \n",
    "                 else:\n",
    "                     messagebox.showerror('Error', 'Please Enter Valid Contact Number')\n",
    "                     return False\n",
    "            else:\n",
    "                messagebox.showerror('Error', 'Please Enter Contact Number')\n",
    "                return False\n",
    "        else:\n",
    "            messagebox.showerror('Error', 'Please Enter Name')\n",
    "            return False\n",
    "\n",
    "class window3():\n",
    "    def __init__(self, root,name,contact,clicked4):\n",
    "        self.root2 = root\n",
    "        self.name = name\n",
    "        self.clicked4=clicked4\n",
    "        self.contact = contact\n",
    "        self.frame2=tk.Frame(self.root2)    \n",
    "        self.frame = tk.Frame(self.root2)\n",
    "        self.root2 = root\n",
    "        self.root2.title(\"Car Details\")\n",
    "        self.root2.geometry(\"1000x1000\")\n",
    "        self.root2.resizable(False,False)\n",
    "\n",
    "        #login frame\n",
    "        Frame_login=tk.Frame(self.root2,bg=\"white\")\n",
    "        Frame_login.place(x=2,y=8,height=740,width=1000)\n",
    "        \n",
    "        self.bg4= ImageTk.PhotoImage(file = 'win3.png')\n",
    "        self.bg_image44 = tk.Label(self.root2 ,image=self.bg4).place(x=100,y=350,relwidth=0.8,relheight= 0.4)\n",
    "        \n",
    "        title=tk.Label(Frame_login,text=self.api('CAR DETAILS'),font=(\"Impact\",35,\"bold\"),fg=\"#52CCB5\",bg=\"white\").place(x=400,y=10)\n",
    "        \n",
    "        self.car_name = tk.StringVar()\n",
    "        lbl_user=tk.Label(Frame_login,text=self.api('Car Name'),font=('times new roman',15,'bold'),fg='#52CCB5',bg='white').place(x=50,y=90)\n",
    "        self.txt_user=tk.Entry(Frame_login,textvariable=self.car_name,font=('times new roman',15),bg='lightgray')\n",
    "        self.txt_user.place(x=220,y=90,width=140,height=30)\n",
    "\n",
    "        self.present_price = tk.StringVar()\n",
    "        lbl_user=tk.Label(Frame_login,text=self.api('Present Price'),font=('times new roman',15,'bold'),fg='#52CCB5',bg='white').place(x=50,y=150)\n",
    "        self.txt_pass=tk.Entry(Frame_login,textvariable=self.present_price,font=('times new roman',15),bg='lightgray')\n",
    "        self.txt_pass.place(x=220,y=150,width=140,height=30)\n",
    "\n",
    "        self.kms_driven = tk.StringVar()\n",
    "        lbl_user=tk.Label(Frame_login,text=self.api('KM Driven'),font=('times new roman',15,'bold'),fg='#52CCB5',bg='white').place(x=50,y=210)\n",
    "        self.txt_pass=tk.Entry(Frame_login,textvariable=self.kms_driven,font=('times new roman',15),bg='lightgray')\n",
    "        self.txt_pass.place(x=220,y=210,width=140,height=30)\n",
    "\n",
    "        self.owner_number = tk.StringVar()\n",
    "        lbl_user=tk.Label(Frame_login,text=self.api('No. of Owners'),font=('times new roman',15,'bold'),fg='#52CCB5',bg='white').place(x=50,y=270)\n",
    "        self.txt_pass=tk.Entry(Frame_login,textvariable=self.owner_number,font=('times new roman',15),bg='lightgray')\n",
    "        self.txt_pass.place(x=220,y=270,width=140,height=30)\n",
    "\n",
    "        self.year = tk.StringVar()\n",
    "        options = [\"2006\",\"2007\",\"2008\",\"2009\",\"2010\",\"2011\",\"2012\",\"2013\",\"2014\",\"2015\",\"2016\",\"2017\",\"2018\",\"2019\",\"2020\"]\n",
    "        droplist_deep=tk.OptionMenu(Frame_login,self.year,*options).place(x=750,y=90,width=140,height=30)\n",
    "        self.year.set(\"Select\")\n",
    "        lbl_user=tk.Label(Frame_login,text=self.api('Model Year'),font=('times new roman',15,'bold'),fg='#52CCB5',bg='white').place(x=610,y=90)\n",
    "        \n",
    "        options1=['CNG','Diesel','Petrol']\n",
    "        self.clicked1=tk.StringVar()\n",
    "        self.clicked1.set('Select')\n",
    "        tk.OptionMenu(Frame_login, self.clicked1 , *options1 ).place(x=750,y=150,width=140,height=30)\n",
    "        lbl_user=tk.Label(Frame_login,text=self.api('Fuel Type'),font=('times new roman',15,'bold'),fg='#52CCB5',bg='white').place(x=610,y=150)\n",
    "\n",
    "        options2=['Automatic','Manual']\n",
    "        self.clicked2=tk.StringVar()\n",
    "        self.clicked2.set('Select')\n",
    "        tk.OptionMenu(Frame_login, self.clicked2 , *options2 ).place(x=750,y=210,width=140,height=30)\n",
    "        lbl_user=tk.Label(Frame_login,text=self.api('Gear type'),font=('times new roman',15,'bold'),fg='#52CCB5',bg='white').place(x=610,y=210)\n",
    "       \n",
    "        options3=['Dealer','Individual']\n",
    "        self.clicked3=tk.StringVar()\n",
    "        self.clicked3.set('Select')\n",
    "        tk.OptionMenu(Frame_login, self.clicked3 , *options3 ).place(x=750,y=270,width=140,height=30)\n",
    "        lbl_user=tk.Label(Frame_login,text=self.api('Seller Type'),font=('times new roman',15,'bold'),fg='#52CCB5',bg='white').place(x=610,y=270)\n",
    "        \n",
    "        Login_btn=tk.Button(Frame_login,text=self.api('Predict'),fg='white',bg='#52CCB5',font=('times new roman',16),command = self.new_window).place(x=470,y=170)\n",
    "\n",
    "        self.frame.pack()\n",
    "        \n",
    "    \n",
    "    def close_windows(self):\n",
    "        self.root.destroy()\n",
    "        self.new_window\n",
    "\n",
    "    def var_form_value1(value):\n",
    "        if(value == 'Select'):\n",
    "            return False\n",
    "        else:\n",
    "            return True\n",
    "    \n",
    "    def api(self,line):\n",
    "        self.line=line\n",
    "        if self.clicked4=='Hindi':\n",
    "            str='en-hi'\n",
    "        elif self.clicked4=='Spanish':\n",
    "            str='en-es'\n",
    "        elif self.clicked4=='French':\n",
    "            str='en-fr'\n",
    "        elif self.clicked4=='German':\n",
    "            str='en-de'\n",
    "        elif self.clicked4=='English':\n",
    "            return self.line\n",
    "        elif self.clicked4=='Russian':\n",
    "            str='en-ru'\n",
    "        elif self.clicked4=='Gujarati':\n",
    "            str='en-gu'\n",
    "        elif self.clicked4=='Dutch':\n",
    "            str='en-nl'\n",
    "        elif self.clicked4=='Chinese':\n",
    "            str='en-zh-TW'\n",
    "        elif self.clicked4=='Hebrew':\n",
    "            str='en-he'\n",
    "        elif self.clicked4=='Tamil':\n",
    "            str='en-ta'\n",
    "        elif self.clicked4=='Telegu':\n",
    "            str='en-te'\n",
    "        elif self.clicked4=='Thai':\n",
    "            str='en-th'\n",
    "        elif self.clicked4=='Czech':\n",
    "            str='en-cs'\n",
    "        elif self.clicked4=='Arabic':\n",
    "            str='en-ar'\n",
    "        elif self.clicked4=='Bengali':\n",
    "            str='en-bn'\n",
    "        elif self.clicked4=='Korean':\n",
    "            str='en-ko'\n",
    "        elif self.clicked4=='Malayalam':\n",
    "            str='en-ml'\n",
    "        elif self.clicked4=='Nepali':\n",
    "            str='en-ne'\n",
    "        elif self.clicked4=='Latvian':\n",
    "            str='en-lv'\n",
    "        elif self.clicked4=='Bulgarian':\n",
    "            str='en-bg'\n",
    "        elif self.clicked4=='Croatian':\n",
    "            str='en-hr'\n",
    "        elif self.clicked4=='Finnish':\n",
    "            str='en-fi'\n",
    "        elif self.clicked4=='Slovak':\n",
    "            str='en-sk'\n",
    "        elif self.clicked4=='Portuguese':\n",
    "            str='en-pt'\n",
    "        elif self.clicked4=='Greek':\n",
    "            str='en-el'\n",
    "\n",
    "        \n",
    "            \n",
    "        translation=lt.translate(text=self.line,model_id=str).get_result()\n",
    "        return translation['translations'][0]['translation']\n",
    "\n",
    "    def get_all_value(self):\n",
    "\n",
    "        diesel=0\n",
    "        petrol=0\n",
    "        seller_indi=0\n",
    "        trans_manual=0\n",
    "        year=2021-int(self.year.get())\n",
    "        no_owner=int(self.owner_number.get())\n",
    "        kmd=int(self.kms_driven.get())\n",
    "        present=float(self.present_price.get())/100000\n",
    "\n",
    "        if self.clicked1.get()=='Diesel':\n",
    "            diesel=1\n",
    "\n",
    "        elif self.clicked1.get()=='Petrol':\n",
    "            petrol=1\n",
    "\n",
    "        if self.clicked3.get()=='Individual':\n",
    "            seller_indi=1\n",
    "\n",
    "        if self.clicked2.get()=='Manual':\n",
    "            trans_manual=1\n",
    "\n",
    "        user_input=np.array([[present,kmd,no_owner,year,diesel,petrol,seller_indi,trans_manual]])\n",
    "        new_X=np.append(Duplicate_Input,user_input,axis=0)\n",
    "        print('Dimension: ',new_X.shape)\n",
    "\n",
    "        # #Normalizing user input\n",
    "        new_arr=scaler.fit_transform(new_X)\n",
    "        get_value=new_arr[-1]\n",
    "        print(random_forest_regressor.predict([get_value]))\n",
    "        result=random_forest_regressor.predict([get_value])[0]*100000\n",
    "        return self.api(round(float(result),0))\n",
    "        \n",
    "\n",
    "        \n",
    "    def new_window(self):\n",
    "        con = db_con.connect(host=\"localhost\", user=\"root\", password=\"\", database=\"gui_project\")\n",
    "        cur = con.cursor()\n",
    "        if(cur):\n",
    "             sql = \"INSERT INTO user_detail (name, contact) VALUES (%s, %s)\"\n",
    "             val = (self.name, self.contact)\n",
    "             cur.execute(sql, val)\n",
    "             con.commit()\n",
    "             if(window2.var_form_value(self.car_name.get())):\n",
    "                 if(window2.var_form_value(self.present_price.get()) and self.present_price.get().isnumeric()):\n",
    "                     if(window2.var_form_value(self.kms_driven.get()) and self.kms_driven.get().isnumeric()):\n",
    "                         if(window2.var_form_value(self.owner_number.get()) and int(self.owner_number.get()) > 0 and int(self.owner_number.get()) <= 3):\n",
    "                             if(window3.var_form_value1(self.year.get())):\n",
    "                                 if(window3.var_form_value1(self.clicked1.get())):\n",
    "                                     if(window3.var_form_value1(self.clicked2.get())):\n",
    "                                         if(window3.var_form_value1(self.clicked3.get())):\n",
    "                                          user_id = cur.lastrowid\n",
    "                                          sql = \"INSERT INTO car_details (user_id,car_name,Present_price,Kms_driven,Owner,year) VALUES (%s, %s,%s,%s,%s,%s)\"\n",
    "                                          val = (user_id,self.car_name.get(), self.present_price.get(),self.kms_driven.get(),self.owner_number.get(),self.year.get())\n",
    "                                          cur.execute(sql, val)\n",
    "                                          con.commit()\n",
    "                                          car_details_id = cur.lastrowid           \n",
    "                                        \n",
    "                                          self.get_all_value()\n",
    "                                          self.bg1= ImageTk.PhotoImage(file = 'win4.png')\n",
    "                                          self.bg_image1 = tk.Label(self.root2,image=self.bg1).place(x=1,y=1,relwidth=1,relheight=1)\n",
    "                                          title=tk.Label(self.root2,text=self.api(f'Buy this car for just Rs. {self.get_all_value()}'),font=(\"times new roman\",35,\"bold\"),fg=\"#52CCB5\").place(x=180,y=150) \n",
    "                                       \n",
    "                                          if(self.clicked1.get() == \"Diesel\"):\n",
    "                                               print()\n",
    "                                               cur.execute(f\"UPDATE car_details SET Fuel_Type_Diesel = '1' WHERE id = '{car_details_id}'\")\n",
    "                                               con.commit()\n",
    "                                          if(self.clicked1.get() == \"Petrol\"):\n",
    "                                               print()\n",
    "                                               cur.execute(f\"UPDATE car_details SET Fuel_Type_Petrol = '1' WHERE id = '{car_details_id}'\")\n",
    "                                               con.commit()\n",
    "                                          if(self.clicked2.get() == \"Manual\"):\n",
    "                                               print()\n",
    "                                               cur.execute(f\"UPDATE car_details SET Transmission_Manual = '1' WHERE id = '{car_details_id}'\")\n",
    "                                               con.commit()\n",
    "                                          if(self.clicked3.get() == \"Individual\"):\n",
    "                                               print()\n",
    "                                               cur.execute(f\"UPDATE car_details SET Seller_Type_Individual = '1' WHERE id = '{car_details_id}'\")\n",
    "                                               con.commit() \n",
    "                                        \n",
    "                                         else:\n",
    "                                              messagebox.showerror('Error', 'Please Select Seller Type')\n",
    "                                              return False\n",
    "                                     else:\n",
    "                                              messagebox.showerror('Error', 'Please Select Car Type')\n",
    "                                              return False\n",
    "                                 else:\n",
    "                                              messagebox.showerror('Error', 'Please Select Fuel Type')\n",
    "                                              return False\n",
    "\n",
    "                             else:\n",
    "                                 messagebox.showerror('Error', 'Please Select Year')\n",
    "                                 return False\n",
    "                         else:\n",
    "                             messagebox.showerror('Error', 'Please Enter Correct Owner Number')\n",
    "                             return False\n",
    "                     else:\n",
    "                         messagebox.showerror('Error', 'Please Enter Correct Kms Driven')\n",
    "                         return False\n",
    "                 else:\n",
    "                         messagebox.showerror('Error', 'Please Enter Correct Present Price')\n",
    "                         return False\n",
    "             else:\n",
    "                         messagebox.showerror('Error', 'Please Enter Correct Car Name')\n",
    "                         return False\n",
    "        else:\n",
    "            messagebox.showerror('Error', 'Server Error')\n",
    "            return False\n",
    "\n",
    "        \n",
    "def main(): \n",
    "    root = tk.Tk()\n",
    "    app = window1(root)\n",
    "    root.mainloop()\n",
    "\n",
    "if __name__ == '__main__':\n",
    "    main()"
   ]
  }
 ],
 "metadata": {
  "interpreter": {
   "hash": "c76e36bcd791910f9241ebcc339f5b824c1c945da79251844981ec990b2089bd"
  },
  "kernelspec": {
   "display_name": "Python 3.9.5 64-bit",
   "name": "python3"
  },
  "language_info": {
   "codemirror_mode": {
    "name": "ipython",
    "version": 3
   },
   "file_extension": ".py",
   "mimetype": "text/x-python",
   "name": "python",
   "nbconvert_exporter": "python",
   "pygments_lexer": "ipython3",
   "version": "3.9.5"
  }
 },
 "nbformat": 4,
 "nbformat_minor": 5
}
